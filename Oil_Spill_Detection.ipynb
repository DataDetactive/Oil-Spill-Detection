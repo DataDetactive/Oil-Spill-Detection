{
 "cells": [
  {
   "cell_type": "code",
   "execution_count": 10,
   "metadata": {},
   "outputs": [],
   "source": [
    "from pandas import read_csv\n",
    "from collections import Counter \n",
    "from matplotlib import pyplot\n",
    "from numpy import mean\n",
    "from numpy import std\n",
    "from pandas import read_csv\n",
    "from sklearn.preprocessing import LabelEncoder\n",
    "from sklearn.model_selection import cross_val_score\n",
    "from sklearn.model_selection import RepeatedStratifiedKFold\n",
    "from imblearn.metrics import geometric_mean_score\n",
    "from sklearn.metrics import make_scorer\n",
    "from sklearn.dummy import DummyClassifier\n",
    "from sklearn.linear_model import LogisticRegression\n",
    "from sklearn.discriminant_analysis import LinearDiscriminantAnalysis\n",
    "from sklearn.naive_bayes import GaussianNB\n",
    "from sklearn.pipeline import Pipeline\n",
    "from sklearn.preprocessing import StandardScaler,MinMaxScaler,PowerTransformer"
   ]
  },
  {
   "cell_type": "code",
   "execution_count": 4,
   "metadata": {},
   "outputs": [],
   "source": [
    "filename = 'oil-spill.csv'\n",
    "dataframe = read_csv(filename, header=None)\n"
   ]
  },
  {
   "cell_type": "code",
   "execution_count": 6,
   "metadata": {},
   "outputs": [
    {
     "name": "stdout",
     "output_type": "stream",
     "text": [
      "(937, 50)\n"
     ]
    },
    {
     "data": {
      "text/html": [
       "<div>\n",
       "<style scoped>\n",
       "    .dataframe tbody tr th:only-of-type {\n",
       "        vertical-align: middle;\n",
       "    }\n",
       "\n",
       "    .dataframe tbody tr th {\n",
       "        vertical-align: top;\n",
       "    }\n",
       "\n",
       "    .dataframe thead th {\n",
       "        text-align: right;\n",
       "    }\n",
       "</style>\n",
       "<table border=\"1\" class=\"dataframe\">\n",
       "  <thead>\n",
       "    <tr style=\"text-align: right;\">\n",
       "      <th></th>\n",
       "      <th>0</th>\n",
       "      <th>1</th>\n",
       "      <th>2</th>\n",
       "      <th>3</th>\n",
       "      <th>4</th>\n",
       "      <th>5</th>\n",
       "      <th>6</th>\n",
       "      <th>7</th>\n",
       "      <th>8</th>\n",
       "      <th>9</th>\n",
       "      <th>10</th>\n",
       "      <th>11</th>\n",
       "      <th>12</th>\n",
       "      <th>13</th>\n",
       "      <th>14</th>\n",
       "      <th>15</th>\n",
       "      <th>16</th>\n",
       "      <th>17</th>\n",
       "      <th>18</th>\n",
       "      <th>19</th>\n",
       "      <th>20</th>\n",
       "      <th>21</th>\n",
       "      <th>22</th>\n",
       "      <th>23</th>\n",
       "      <th>24</th>\n",
       "      <th>25</th>\n",
       "      <th>26</th>\n",
       "      <th>27</th>\n",
       "      <th>28</th>\n",
       "      <th>29</th>\n",
       "      <th>30</th>\n",
       "      <th>31</th>\n",
       "      <th>32</th>\n",
       "      <th>33</th>\n",
       "      <th>34</th>\n",
       "      <th>35</th>\n",
       "      <th>36</th>\n",
       "      <th>37</th>\n",
       "      <th>38</th>\n",
       "      <th>39</th>\n",
       "      <th>40</th>\n",
       "      <th>41</th>\n",
       "      <th>42</th>\n",
       "      <th>43</th>\n",
       "      <th>44</th>\n",
       "      <th>45</th>\n",
       "      <th>46</th>\n",
       "      <th>47</th>\n",
       "      <th>48</th>\n",
       "      <th>49</th>\n",
       "    </tr>\n",
       "  </thead>\n",
       "  <tbody>\n",
       "    <tr>\n",
       "      <th>0</th>\n",
       "      <td>1</td>\n",
       "      <td>2558</td>\n",
       "      <td>1506.09</td>\n",
       "      <td>456.63</td>\n",
       "      <td>90</td>\n",
       "      <td>6395000.0</td>\n",
       "      <td>40.88</td>\n",
       "      <td>7.89</td>\n",
       "      <td>29780.0</td>\n",
       "      <td>0.19</td>\n",
       "      <td>214.7</td>\n",
       "      <td>0.21</td>\n",
       "      <td>0.26</td>\n",
       "      <td>0.49</td>\n",
       "      <td>0.10</td>\n",
       "      <td>0.40</td>\n",
       "      <td>99.59</td>\n",
       "      <td>32.19</td>\n",
       "      <td>1.84</td>\n",
       "      <td>0.16</td>\n",
       "      <td>0.20</td>\n",
       "      <td>87.65</td>\n",
       "      <td>0</td>\n",
       "      <td>0.47</td>\n",
       "      <td>132.78</td>\n",
       "      <td>-0.01</td>\n",
       "      <td>3.78</td>\n",
       "      <td>0.22</td>\n",
       "      <td>3.20</td>\n",
       "      <td>-3.71</td>\n",
       "      <td>-0.18</td>\n",
       "      <td>2.19</td>\n",
       "      <td>0.0</td>\n",
       "      <td>2.19</td>\n",
       "      <td>310</td>\n",
       "      <td>16110</td>\n",
       "      <td>0.00</td>\n",
       "      <td>138.68</td>\n",
       "      <td>89</td>\n",
       "      <td>69</td>\n",
       "      <td>2850.00</td>\n",
       "      <td>1000.00</td>\n",
       "      <td>763.16</td>\n",
       "      <td>135.46</td>\n",
       "      <td>3.73</td>\n",
       "      <td>0</td>\n",
       "      <td>33243.19</td>\n",
       "      <td>65.74</td>\n",
       "      <td>7.95</td>\n",
       "      <td>1</td>\n",
       "    </tr>\n",
       "    <tr>\n",
       "      <th>1</th>\n",
       "      <td>2</td>\n",
       "      <td>22325</td>\n",
       "      <td>79.11</td>\n",
       "      <td>841.03</td>\n",
       "      <td>180</td>\n",
       "      <td>55812500.0</td>\n",
       "      <td>51.11</td>\n",
       "      <td>1.21</td>\n",
       "      <td>61900.0</td>\n",
       "      <td>0.02</td>\n",
       "      <td>901.7</td>\n",
       "      <td>0.02</td>\n",
       "      <td>0.03</td>\n",
       "      <td>0.11</td>\n",
       "      <td>0.01</td>\n",
       "      <td>0.11</td>\n",
       "      <td>6058.23</td>\n",
       "      <td>4061.15</td>\n",
       "      <td>2.30</td>\n",
       "      <td>0.02</td>\n",
       "      <td>0.02</td>\n",
       "      <td>87.65</td>\n",
       "      <td>0</td>\n",
       "      <td>0.58</td>\n",
       "      <td>132.78</td>\n",
       "      <td>-0.01</td>\n",
       "      <td>3.78</td>\n",
       "      <td>0.84</td>\n",
       "      <td>7.09</td>\n",
       "      <td>-2.21</td>\n",
       "      <td>0.00</td>\n",
       "      <td>0.00</td>\n",
       "      <td>0.0</td>\n",
       "      <td>0.00</td>\n",
       "      <td>704</td>\n",
       "      <td>40140</td>\n",
       "      <td>0.00</td>\n",
       "      <td>68.65</td>\n",
       "      <td>89</td>\n",
       "      <td>69</td>\n",
       "      <td>5750.00</td>\n",
       "      <td>11500.00</td>\n",
       "      <td>9593.48</td>\n",
       "      <td>1648.80</td>\n",
       "      <td>0.60</td>\n",
       "      <td>0</td>\n",
       "      <td>51572.04</td>\n",
       "      <td>65.73</td>\n",
       "      <td>6.26</td>\n",
       "      <td>0</td>\n",
       "    </tr>\n",
       "    <tr>\n",
       "      <th>2</th>\n",
       "      <td>3</td>\n",
       "      <td>115</td>\n",
       "      <td>1449.85</td>\n",
       "      <td>608.43</td>\n",
       "      <td>88</td>\n",
       "      <td>287500.0</td>\n",
       "      <td>40.42</td>\n",
       "      <td>7.34</td>\n",
       "      <td>3340.0</td>\n",
       "      <td>0.18</td>\n",
       "      <td>86.1</td>\n",
       "      <td>0.21</td>\n",
       "      <td>0.32</td>\n",
       "      <td>0.50</td>\n",
       "      <td>0.17</td>\n",
       "      <td>0.34</td>\n",
       "      <td>71.20</td>\n",
       "      <td>16.73</td>\n",
       "      <td>1.82</td>\n",
       "      <td>0.19</td>\n",
       "      <td>0.29</td>\n",
       "      <td>87.65</td>\n",
       "      <td>0</td>\n",
       "      <td>0.46</td>\n",
       "      <td>132.78</td>\n",
       "      <td>-0.01</td>\n",
       "      <td>3.78</td>\n",
       "      <td>0.70</td>\n",
       "      <td>4.79</td>\n",
       "      <td>-3.36</td>\n",
       "      <td>-0.23</td>\n",
       "      <td>1.95</td>\n",
       "      <td>0.0</td>\n",
       "      <td>1.95</td>\n",
       "      <td>29</td>\n",
       "      <td>1530</td>\n",
       "      <td>0.01</td>\n",
       "      <td>38.80</td>\n",
       "      <td>89</td>\n",
       "      <td>69</td>\n",
       "      <td>1400.00</td>\n",
       "      <td>250.00</td>\n",
       "      <td>150.00</td>\n",
       "      <td>45.13</td>\n",
       "      <td>9.33</td>\n",
       "      <td>1</td>\n",
       "      <td>31692.84</td>\n",
       "      <td>65.81</td>\n",
       "      <td>7.84</td>\n",
       "      <td>1</td>\n",
       "    </tr>\n",
       "    <tr>\n",
       "      <th>3</th>\n",
       "      <td>4</td>\n",
       "      <td>1201</td>\n",
       "      <td>1562.53</td>\n",
       "      <td>295.65</td>\n",
       "      <td>66</td>\n",
       "      <td>3002500.0</td>\n",
       "      <td>42.40</td>\n",
       "      <td>7.97</td>\n",
       "      <td>18030.0</td>\n",
       "      <td>0.19</td>\n",
       "      <td>166.5</td>\n",
       "      <td>0.21</td>\n",
       "      <td>0.26</td>\n",
       "      <td>0.48</td>\n",
       "      <td>0.10</td>\n",
       "      <td>0.38</td>\n",
       "      <td>120.22</td>\n",
       "      <td>33.47</td>\n",
       "      <td>1.91</td>\n",
       "      <td>0.16</td>\n",
       "      <td>0.21</td>\n",
       "      <td>87.65</td>\n",
       "      <td>0</td>\n",
       "      <td>0.48</td>\n",
       "      <td>132.78</td>\n",
       "      <td>-0.01</td>\n",
       "      <td>3.78</td>\n",
       "      <td>0.84</td>\n",
       "      <td>6.78</td>\n",
       "      <td>-3.54</td>\n",
       "      <td>-0.33</td>\n",
       "      <td>2.20</td>\n",
       "      <td>0.0</td>\n",
       "      <td>2.20</td>\n",
       "      <td>183</td>\n",
       "      <td>10080</td>\n",
       "      <td>0.00</td>\n",
       "      <td>108.27</td>\n",
       "      <td>89</td>\n",
       "      <td>69</td>\n",
       "      <td>6041.52</td>\n",
       "      <td>761.58</td>\n",
       "      <td>453.21</td>\n",
       "      <td>144.97</td>\n",
       "      <td>13.33</td>\n",
       "      <td>1</td>\n",
       "      <td>37696.21</td>\n",
       "      <td>65.67</td>\n",
       "      <td>8.07</td>\n",
       "      <td>1</td>\n",
       "    </tr>\n",
       "    <tr>\n",
       "      <th>4</th>\n",
       "      <td>5</td>\n",
       "      <td>312</td>\n",
       "      <td>950.27</td>\n",
       "      <td>440.86</td>\n",
       "      <td>37</td>\n",
       "      <td>780000.0</td>\n",
       "      <td>41.43</td>\n",
       "      <td>7.03</td>\n",
       "      <td>3350.0</td>\n",
       "      <td>0.17</td>\n",
       "      <td>232.8</td>\n",
       "      <td>0.15</td>\n",
       "      <td>0.19</td>\n",
       "      <td>0.35</td>\n",
       "      <td>0.09</td>\n",
       "      <td>0.26</td>\n",
       "      <td>289.19</td>\n",
       "      <td>48.68</td>\n",
       "      <td>1.86</td>\n",
       "      <td>0.13</td>\n",
       "      <td>0.16</td>\n",
       "      <td>87.65</td>\n",
       "      <td>0</td>\n",
       "      <td>0.47</td>\n",
       "      <td>132.78</td>\n",
       "      <td>-0.01</td>\n",
       "      <td>3.78</td>\n",
       "      <td>0.02</td>\n",
       "      <td>2.28</td>\n",
       "      <td>-3.44</td>\n",
       "      <td>-0.44</td>\n",
       "      <td>2.19</td>\n",
       "      <td>0.0</td>\n",
       "      <td>2.19</td>\n",
       "      <td>45</td>\n",
       "      <td>2340</td>\n",
       "      <td>0.00</td>\n",
       "      <td>14.39</td>\n",
       "      <td>89</td>\n",
       "      <td>69</td>\n",
       "      <td>1320.04</td>\n",
       "      <td>710.63</td>\n",
       "      <td>512.54</td>\n",
       "      <td>109.16</td>\n",
       "      <td>2.58</td>\n",
       "      <td>0</td>\n",
       "      <td>29038.17</td>\n",
       "      <td>65.66</td>\n",
       "      <td>7.35</td>\n",
       "      <td>0</td>\n",
       "    </tr>\n",
       "  </tbody>\n",
       "</table>\n",
       "</div>"
      ],
      "text/plain": [
       "   0      1        2       3    4   ...  45        46     47    48  49\n",
       "0   1   2558  1506.09  456.63   90  ...   0  33243.19  65.74  7.95   1\n",
       "1   2  22325    79.11  841.03  180  ...   0  51572.04  65.73  6.26   0\n",
       "2   3    115  1449.85  608.43   88  ...   1  31692.84  65.81  7.84   1\n",
       "3   4   1201  1562.53  295.65   66  ...   1  37696.21  65.67  8.07   1\n",
       "4   5    312   950.27  440.86   37  ...   0  29038.17  65.66  7.35   0\n",
       "\n",
       "[5 rows x 50 columns]"
      ]
     },
     "execution_count": 6,
     "metadata": {},
     "output_type": "execute_result"
    }
   ],
   "source": [
    "print(dataframe.shape)\n",
    "dataframe.head()"
   ]
  },
  {
   "cell_type": "markdown",
   "metadata": {},
   "source": [
    "### summarize the number of examples in each class"
   ]
  },
  {
   "cell_type": "code",
   "execution_count": 11,
   "metadata": {},
   "outputs": [],
   "source": [
    "target = dataframe.values[:,-1]"
   ]
  },
  {
   "cell_type": "code",
   "execution_count": 17,
   "metadata": {},
   "outputs": [
    {
     "name": "stdout",
     "output_type": "stream",
     "text": [
      "Counter({0.0: 896, 1.0: 41})\n"
     ]
    }
   ],
   "source": [
    "counter = Counter(target)\n",
    "print(counter)"
   ]
  },
  {
   "cell_type": "code",
   "execution_count": 48,
   "metadata": {},
   "outputs": [
    {
     "name": "stdout",
     "output_type": "stream",
     "text": [
      "Class=1, Count=41, Percentage=4.376%\n",
      "Class=0, Count=896, Percentage=95.624%\n"
     ]
    }
   ],
   "source": [
    "#Notice the imbalance\n",
    "for k,v in counter.items():\n",
    "    per = v / len(target) * 100\n",
    "    print('Class=%d, Count=%d, Percentage=%.3f%%' % (k, v, per))"
   ]
  },
  {
   "cell_type": "markdown",
   "metadata": {},
   "source": [
    "### distribution of each variable by creating a histogram for each:\n",
    "<html>\n",
    "    <p>in order to get a feeling of what are the main characteristics of certain features. and be able to             understand if it’s present any pattern in the data distribution if it’s present any pattern in the data          distribution, we can then tailor-made our Machine Learning models to best fit our case study.</p>"
   ]
  },
  {
   "cell_type": "code",
   "execution_count": 64,
   "metadata": {},
   "outputs": [
    {
     "data": {
      "image/png": "[encoded data removed]",
      "text/plain": [
       "<Figure size 432x288 with 56 Axes>"
      ]
     },
     "metadata": {
      "needs_background": "light"
     },
     "output_type": "display_data"
    }
   ],
   "source": [
    "# create a histogram plot of each variable and science our variables are features of the images we do not need label \n",
    "ax = dataframe.hist()\n",
    "#disable axis labels\n",
    "for axis in ax.flatten():\n",
    "    axis.set_title('')\n",
    "    axis.set_xticklabels([])\n",
    "    axis.set_yticklabels([])\n",
    "pyplot.show()"
   ]
  },
  {
   "cell_type": "markdown",
   "metadata": {},
   "source": [
    "<html>\n",
    "<ul>\n",
    "    <li>Running the snippet previous code creates the figure with one histogram subplot for each of the 50 variables in the dataset.</li>\n",
    "    <li> We can see many different distributions, some with Gaussian-like distributions, others with seemingly exponential or discrete distributions.</li>\n",
    "    <li> Depending on the choice of modeling algorithms, we would expect scaling the distributions to the same range to be useful, and perhaps the use of some power transforms.</li>\n",
    "</ul>\n",
    "\n",
    "    "
   ]
  },
  {
   "cell_type": "markdown",
   "metadata": {},
   "source": [
    "## Model test and Base line result (Bench Mark for our Case): \n",
    "   <html>\n",
    "        <h5 style=\"color:red\">remember that we are handel unbalanced data So: </h5>\n",
    "    <h6> We will evaluate candidate models using repeated stratified k-fold cross-validation: </h6>\n",
    "      <ul>\n",
    "        <li>Stratified means that each fold will contain the same mixture of examples by class, that is about 96% to 4% non-spill and spill. Repeated means that the evaluation process will be performed multiple times to help avoid fluke results and better capture the variance of the chosen model. We will use three repeats.</li>\n",
    "     </ul>\n",
    "    <h6> We are predicting class labels of whether a satellite image patch contains a spill or not. There are many measures we could use, although the authors of the paper chose to report the sensitivity, specificity, and the geometric mean of the two scores, called the <span style=\"color:blue\"> G-mean</span>: </h6>\n",
    "    <ul>\n",
    "        <li>Sensitivity = TruePositives / (TruePositives + FalseNegatives)</li>\n",
    "        <li>Specificity = TrueNegatives / (TrueNegatives + FalsePositives)</li>\n",
    "        <li>G-Mean = sqrt(Sensitivity * Specificity)</li>\n",
    "        <li style=\"color:red\"> Note: poor performanc means low G-mean score.</li>\n",
    "    </ul>\n",
    "        "
   ]
  },
  {
   "cell_type": "code",
   "execution_count": 3,
   "metadata": {},
   "outputs": [],
   "source": [
    "#function to load the dataset and split the columns into input and output variables. \n",
    "def load_dataset(full_path):\n",
    "    # load the dataset as a numpy array\n",
    "    data = read_csv(full_path, header=None)\n",
    "    \n",
    "    # drop unused columns see above you will notice that column 22 have the same value and column 1 is the index\n",
    "    data.drop(22, axis=1, inplace=True)\n",
    "    data.drop(0, axis=1, inplace=True)\n",
    "    \n",
    "    # retrieve numpy array\n",
    "    data = data.values\n",
    "    \n",
    "    # split into input and output elements\n",
    "    X, y = data[:, :-1], data[:, -1]\n",
    "    \n",
    "    # label encode the target variable to have the classes 0 and 1\n",
    "    y = LabelEncoder().fit_transform(y)\n",
    "    return X, y\n",
    "    "
   ]
  },
  {
   "cell_type": "markdown",
   "metadata": {},
   "source": [
    "function that will evaluate a given model on the dataset and return a list of G-Mean scores for each fold and repeat."
   ]
  },
  {
   "cell_type": "code",
   "execution_count": 4,
   "metadata": {},
   "outputs": [],
   "source": [
    "#evaluate model\n",
    "def evaluate_model(X, y, model):\n",
    "    # define evaluation procedure\n",
    "    cv = RepeatedStratifiedKFold(n_splits=10, n_repeats=3, random_state=1)\n",
    "    \n",
    "    # define the model evaluation metric\n",
    "    metric = make_scorer(geometric_mean_score)\n",
    "    \n",
    "    # evaluate model\n",
    "    scores = cross_val_score(model, X, y, scoring=metric, cv=cv, n_jobs=-1)\n",
    "    \n",
    "    return scores"
   ]
  },
  {
   "cell_type": "markdown",
   "metadata": {},
   "source": [
    "Here we try to asamble what we have done and use DummyClassifier as our bench mark if you don't understand what is bench mark and what is used for here is another broject i desccused about it "
   ]
  },
  {
   "cell_type": "code",
   "execution_count": 5,
   "metadata": {},
   "outputs": [
    {
     "name": "stdout",
     "output_type": "stream",
     "text": [
      "Mean G-Mean: 0.507 (0.167)\n"
     ]
    }
   ],
   "source": [
    "full_path = 'oil-spill.csv'\n",
    "X, y = load_dataset(full_path)\n",
    "model = DummyClassifier(strategy='uniform')\n",
    "scores = evaluate_model(X, y, model)\n",
    "print('Mean G-Mean: %.3f (%.3f)' % (mean(scores), std(scores)))"
   ]
  },
  {
   "cell_type": "markdown",
   "metadata": {},
   "source": [
    "<html>\n",
    "    <p style=\"color-background:red\">\n",
    "        In this case, we can see that the baseline algorithm achieves a G-Mean of about 0.50, close to the theoretical maximum of 0.5. This score provides a lower limit on model skill; any model that achieves an average G-Mean above about 0.50 (or really above 0.5) has skill, whereas models that achieve a score below this value do not have skill on this dataset.\n",
    "    </p>"
   ]
  },
  {
   "cell_type": "markdown",
   "metadata": {},
   "source": [
    "## Evaluate Models"
   ]
  },
  {
   "cell_type": "markdown",
   "metadata": {},
   "source": [
    "<html>\n",
    "    <p>In this section, we will evaluate a suite of different techniques on the dataset using the test harness developed in the previous section.</p>\n",
    "    <p>The goal is to both demonstrate how to work through the problem systematically and to demonstrate the capability of some techniques designed for imbalanced classification problems.</p>"
   ]
  },
  {
   "cell_type": "markdown",
   "metadata": {},
   "source": [
    "### Evaluate Probabilistic Models"
   ]
  },
  {
   "cell_type": "markdown",
   "metadata": {},
   "source": [
    "<html>\n",
    "    <p>We will evaluate the following probabilistic models with default hyperparameters in the dataset:</p>\n",
    "    <ul>\n",
    "        <li>Logistic Regression (LR)</li>\n",
    "        <li>Linear Discriminant Analysis (LDA)</li>\n",
    "        <li>Gaussian Naive Bayes (NB)</li>\n",
    "    </ul>\n",
    "    <p><span style=\"color:red\">NOTE: </span>Both LR and LDA are sensitive to the scale of the input variables, and often expect and/or perform better if input variables with different scales are normalized or standardized as a pre-processing step.so we will use <span style=\"color:blue\">StandardScaler </span></p>"
   ]
  },
  {
   "cell_type": "code",
   "execution_count": 7,
   "metadata": {},
   "outputs": [],
   "source": [
    "# define models\n",
    "models, names, results = list(), list(), list()\n",
    "# LR\n",
    "models.append(Pipeline(steps=[('t',StandardScaler()),('m',LogisticRegression(solver='liblinear'))]))\n",
    "names.append('LR')\n",
    "\n",
    "# LDA\n",
    "models.append(Pipeline(steps=[('t', StandardScaler()),('m',LinearDiscriminantAnalysis())]))\n",
    "names.append('LDA')\n",
    "\n",
    "# NB\n",
    "models.append(GaussianNB())\n",
    "names.append('NB')\n"
   ]
  },
  {
   "cell_type": "code",
   "execution_count": 8,
   "metadata": {},
   "outputs": [
    {
     "name": "stdout",
     "output_type": "stream",
     "text": [
      ">LR 0.672 (0.203)\n",
      ">LDA 0.755 (0.147)\n",
      ">NB 0.707 (0.202)\n"
     ]
    }
   ],
   "source": [
    "# evaluate each model\n",
    "for i in range(len(models)):\n",
    "    # evaluate the model and store results\n",
    "    scores = evaluate_model(X, y, models[i])\n",
    "    results.append(scores)\n",
    "    # summarize and store\n",
    "    print('>%s %.3f (%.3f)' % (names[i], mean(scores), std(scores)))"
   ]
  },
  {
   "cell_type": "code",
   "execution_count": 9,
   "metadata": {},
   "outputs": [
    {
     "data": {
      "image/png": "[encoded data removed]",
      "text/plain": [
       "<Figure size 432x288 with 1 Axes>"
      ]
     },
     "metadata": {
      "needs_background": "light"
     },
     "output_type": "display_data"
    }
   ],
   "source": [
    "# plot the results\n",
    "pyplot.boxplot(results, labels=names, showmeans=True)\n",
    "pyplot.show()"
   ]
  },
  {
   "cell_type": "markdown",
   "metadata": {},
   "source": [
    "## We can do better"
   ]
  },
  {
   "cell_type": "markdown",
   "metadata": {},
   "source": [
    "<html>\n",
    "    <h5>Logistic Regression</h5>\n",
    "    <span>Notice that logistic regression is sensitive to the scale of input variables and can perform better with normalized or standardized inputs </span>\n",
    "    <p>we will try to make the the logistic regression work well by balance the class</p>"
   ]
  },
  {
   "cell_type": "code",
   "execution_count": 20,
   "metadata": {},
   "outputs": [],
   "source": [
    "# define Balanced models\n",
    "Bmodels, Bnames, Bresults = list(), list(), list()\n",
    "# LR Balanced\n",
    "Bmodels.append(LogisticRegression(solver='liblinear', class_weight='balanced'))\n",
    "Bnames.append('Balanced')\n",
    "# LR Balanced + Normalization\n",
    "Bmodels.append(Pipeline(steps=[('t', MinMaxScaler()),('m', LogisticRegression(solver='liblinear', class_weight='balanced'))]))\n",
    "Bnames.append('Balanced-Norm')\n",
    "# LR Balanced + Standardization\n",
    "Bmodels.append(Pipeline(steps=[('t', StandardScaler()),('m', LogisticRegression(solver='liblinear', class_weight='balanced'))]))\n",
    "Bnames.append('Balanced-Std')\n",
    "# LR Balanced  + Power\n",
    "Bmodels.append(Pipeline(steps=[('t1', MinMaxScaler()), ('t2', PowerTransformer()),('m', LogisticRegression(solver='liblinear', class_weight='balanced'))]))\n",
    "Bnames.append('Balanced-Power')"
   ]
  },
  {
   "cell_type": "code",
   "execution_count": 21,
   "metadata": {},
   "outputs": [
    {
     "name": "stdout",
     "output_type": "stream",
     "text": [
      ">Balanced 0.841 (0.118)\n",
      ">Balanced-Norm 0.836 (0.088)\n",
      ">Balanced-Std 0.834 (0.129)\n",
      ">Balanced-Power 0.862 (0.124)\n"
     ]
    }
   ],
   "source": [
    "# evaluate each model\n",
    "for i in range(len(Bmodels)):\n",
    "    # evaluate the model and store results\n",
    "    scores = evaluate_model(X, y, Bmodels[i])\n",
    "    Bresults.append(scores)\n",
    "    print('>%s %.3f (%.3f)' % (Bnames[i], mean(scores), std(scores)))"
   ]
  },
  {
   "cell_type": "code",
   "execution_count": 22,
   "metadata": {},
   "outputs": [
    {
     "data": {
      "image/png": "[encoded data removed]",
      "text/plain": [
       "<Figure size 432x288 with 1 Axes>"
      ]
     },
     "metadata": {
      "needs_background": "light"
     },
     "output_type": "display_data"
    }
   ],
   "source": [
    "# plot the results\n",
    "pyplot.boxplot(Bresults, labels=Bnames, showmeans=True)\n",
    "pyplot.show()"
   ]
  },
  {
   "cell_type": "code",
   "execution_count": null,
   "metadata": {},
   "outputs": [],
   "source": []
  }
 ],
 "metadata": {
  "kernelspec": {
   "display_name": "Python 3",
   "language": "python",
   "name": "python3"
  },
  "language_info": {
   "codemirror_mode": {
    "name": "ipython",
    "version": 3
   },
   "file_extension": ".py",
   "mimetype": "text/x-python",
   "name": "python",
   "nbconvert_exporter": "python",
   "pygments_lexer": "ipython3",
   "version": "3.7.7"
  }
 },
 "nbformat": 4,
 "nbformat_minor": 4
}
